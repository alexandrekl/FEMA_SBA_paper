{
 "cells": [
  {
   "cell_type": "markdown",
   "id": "creative-police",
   "metadata": {},
   "source": [
    "Load penetration data based on SBA PPP loans and BLS 2-digit NAICS codes"
   ]
  },
  {
   "cell_type": "code",
   "execution_count": null,
   "id": "streaming-moore",
   "metadata": {},
   "outputs": [],
   "source": [
    "import pandas as pd\n",
    "import numpy as np\n",
    "from scipy.optimize import linprog\n",
    "from scipy.sparse import identity\n",
    "from plotnine import *    # python lib to use ggplot\n",
    "\n",
    "# list of 2-digit NAICS sectors to include in the analysis\n",
    "NAIC2lst = ['23' # Construction\n",
    "            , '44-45' # (retail)\n",
    "            , '54' # Professional and technical services\n",
    "            , '62' # (health & social, includes childcare)\n",
    "            , '71' # Arts, entertainment, and recreation\n",
    "            , '72'] #(accommodation & food)]\n",
    "\n",
    "fpath = '/Users/aligo/Box/1 RisknDecScience/FEMA recovery/SBA paper/data/'\n",
    "\n",
    "# read nloans, amount, nestablishments per county and NAIC2 sector\n",
    "df = pd.read_excel(fpath + 'PPPpenetrationBLS_County_NAICS2US.xlsx', engine='openpyxl' # , dtype={'STATEFP10':'object','COUNTYFP10':'object'}\n",
    "                           )\n",
    "# keep selected NAICS only\n",
    "pens = df[df['NAICS2'].isin(NAIC2lst)]"
   ]
  },
  {
   "cell_type": "markdown",
   "id": "virgin-visit",
   "metadata": {},
   "source": [
    "Descriptive: Total loans and amt per state"
   ]
  },
  {
   "cell_type": "code",
   "execution_count": null,
   "id": "urban-fraction",
   "metadata": {},
   "outputs": [],
   "source": []
  },
  {
   "cell_type": "markdown",
   "id": "proper-medicine",
   "metadata": {},
   "source": [
    "Metrics: penetration, loan amount per employee, (tentatively) loan amount / average salary\n",
    "Apply metrics on current allocation, average for NAICS2\n",
    "- Total loans and amt per 2-dig NAICS\n",
    "- Penetration: difference between NAICS 71-72 and other NAICS\n",
    "- Look at penetration of subsectors within 71 and 72"
   ]
  },
  {
   "cell_type": "code",
   "execution_count": null,
   "id": "ranking-cause",
   "metadata": {},
   "outputs": [
    {
     "data": {
      "text/html": [
       "<div>\n",
       "<style scoped>\n",
       "    .dataframe tbody tr th:only-of-type {\n",
       "        vertical-align: middle;\n",
       "    }\n",
       "\n",
       "    .dataframe tbody tr th {\n",
       "        vertical-align: top;\n",
       "    }\n",
       "\n",
       "    .dataframe thead th {\n",
       "        text-align: right;\n",
       "    }\n",
       "</style>\n",
       "<table border=\"1\" class=\"dataframe\">\n",
       "  <thead>\n",
       "    <tr style=\"text-align: right;\">\n",
       "      <th></th>\n",
       "      <th>NEstabs</th>\n",
       "      <th>NLoans</th>\n",
       "      <th>TotLoanAmount</th>\n",
       "      <th>TotJobsReported</th>\n",
       "      <th>AvgLoanAmount</th>\n",
       "      <th>penetration</th>\n",
       "      <th>LoanAmtperEmp</th>\n",
       "      <th>actual</th>\n",
       "    </tr>\n",
       "    <tr>\n",
       "      <th>NAICS2</th>\n",
       "      <th></th>\n",
       "      <th></th>\n",
       "      <th></th>\n",
       "      <th></th>\n",
       "      <th></th>\n",
       "      <th></th>\n",
       "      <th></th>\n",
       "      <th></th>\n",
       "    </tr>\n",
       "  </thead>\n",
       "  <tbody>\n",
       "    <tr>\n",
       "      <th>23</th>\n",
       "      <td>805837</td>\n",
       "      <td>416888</td>\n",
       "      <td>6.318184e+10</td>\n",
       "      <td>4535464.0</td>\n",
       "      <td>151555.921331</td>\n",
       "      <td>0.517335</td>\n",
       "      <td>13930.624283</td>\n",
       "      <td>1</td>\n",
       "    </tr>\n",
       "    <tr>\n",
       "      <th>44-45</th>\n",
       "      <td>1035624</td>\n",
       "      <td>392583</td>\n",
       "      <td>3.823744e+10</td>\n",
       "      <td>4141177.0</td>\n",
       "      <td>97399.626913</td>\n",
       "      <td>0.379079</td>\n",
       "      <td>9233.470999</td>\n",
       "      <td>1</td>\n",
       "    </tr>\n",
       "    <tr>\n",
       "      <th>54</th>\n",
       "      <td>1116275</td>\n",
       "      <td>544934</td>\n",
       "      <td>6.410520e+10</td>\n",
       "      <td>4279029.0</td>\n",
       "      <td>117638.471477</td>\n",
       "      <td>0.488172</td>\n",
       "      <td>14981.249909</td>\n",
       "      <td>1</td>\n",
       "    </tr>\n",
       "    <tr>\n",
       "      <th>62</th>\n",
       "      <td>1699461</td>\n",
       "      <td>439644</td>\n",
       "      <td>6.522109e+10</td>\n",
       "      <td>6782591.0</td>\n",
       "      <td>148349.767123</td>\n",
       "      <td>0.258696</td>\n",
       "      <td>9615.954289</td>\n",
       "      <td>1</td>\n",
       "    </tr>\n",
       "    <tr>\n",
       "      <th>71</th>\n",
       "      <td>152154</td>\n",
       "      <td>102897</td>\n",
       "      <td>7.850222e+09</td>\n",
       "      <td>1210601.0</td>\n",
       "      <td>76292.042483</td>\n",
       "      <td>0.676269</td>\n",
       "      <td>6484.566174</td>\n",
       "      <td>1</td>\n",
       "    </tr>\n",
       "    <tr>\n",
       "      <th>72</th>\n",
       "      <td>733341</td>\n",
       "      <td>345285</td>\n",
       "      <td>4.136709e+10</td>\n",
       "      <td>6905667.0</td>\n",
       "      <td>119805.650009</td>\n",
       "      <td>0.470838</td>\n",
       "      <td>5990.311126</td>\n",
       "      <td>1</td>\n",
       "    </tr>\n",
       "  </tbody>\n",
       "</table>\n",
       "</div>"
      ],
      "text/plain": [
       "        NEstabs  NLoans  TotLoanAmount  ...  penetration  LoanAmtperEmp  actual\n",
       "NAICS2                                  ...                                    \n",
       "23       805837  416888   6.318184e+10  ...     0.517335   13930.624283       1\n",
       "44-45   1035624  392583   3.823744e+10  ...     0.379079    9233.470999       1\n",
       "54      1116275  544934   6.410520e+10  ...     0.488172   14981.249909       1\n",
       "62      1699461  439644   6.522109e+10  ...     0.258696    9615.954289       1\n",
       "71       152154  102897   7.850222e+09  ...     0.676269    6484.566174       1\n",
       "72       733341  345285   4.136709e+10  ...     0.470838    5990.311126       1\n",
       "\n",
       "[6 rows x 8 columns]"
      ]
     },
     "execution_count": null,
     "metadata": {},
     "output_type": "execute_result"
    }
   ],
   "source": [
    "#pens['State'].unique()\n",
    "mbefore = pens.assign( TotLoanAmount = pens['NLoans']*pens['AvgLoanAmount'], TotJobsReported = \n",
    "                      pens['NLoans']*pens['AvgJobsReported'] ).groupby('NAICS2').agg(\n",
    "                {'NEstabs':'sum','NLoans':'sum','TotLoanAmount':'sum','TotJobsReported':'sum'} )\n",
    "mbefore = mbefore.assign( AvgLoanAmount = mbefore['TotLoanAmount'] / mbefore['NLoans']\n",
    "                        , penetration = mbefore['NLoans'] / mbefore['NEstabs']\n",
    "                        , LoanAmtperEmp = mbefore['TotLoanAmount'] / mbefore['TotJobsReported'] \n",
    "                        , actual = 1 )\n",
    "mbefore"
   ]
  },
  {
   "cell_type": "markdown",
   "id": "patient-condition",
   "metadata": {},
   "source": [
    "Apply metrics on current allocation, average for NAICS3"
   ]
  },
  {
   "cell_type": "code",
   "execution_count": null,
   "id": "adjusted-opposition",
   "metadata": {},
   "outputs": [],
   "source": []
  },
  {
   "cell_type": "markdown",
   "id": "given-pathology",
   "metadata": {},
   "source": [
    "### Simulate allocation maximizing loan amt per job (will give loans to estabs with least jobs)\n",
    "Formulation:  \n",
    "Decision variables: $NLoans_{n,c}$  \n",
    "where $n$: NAICS code in [23, 44-45, 54, 62, 71, 72]  \n",
    "and $c$: county in US\n",
    "\\begin{equation*}\n",
    "max_{NLoans_{n,c}}\\ \\sum_{n,c}LoanAmtperEmp_{n,c} = \\sum_{n,c}\\frac{TotLoanAmount_{n,c}}{TotJobsReported_{n,c}} \\\\\n",
    "= \\sum_{n,c}NLoans_{n,c}*\\frac{L}{TotJobsReported_{n,c}}\n",
    "\\end{equation*}  \n",
    "where $L = TotLoanAmount / TotNLoans$ (we assume that loan amount is the same for all loans and is the average of first round)  \n",
    "Subject to  \n",
    "$Nloans_{n,c} <= NEstabs_{n,c}$ for any sector n and county c  \n",
    "$\\sum_{n,c}NLoans_{n,c} = TotNLoans$ (preserve same number of loans from first round)  \n",
    "$Nloans_{n,c} >= 0$"
   ]
  },
  {
   "cell_type": "code",
   "execution_count": null,
   "id": "processed-graphic",
   "metadata": {},
   "outputs": [],
   "source": [
    "Npairs = pens.shape[0]\n",
    "TotNLoans = pens['NLoans'].sum()\n",
    "tmp = pens.assign( TotLoanAmount = pens['AvgLoanAmount'] * pens['NLoans']\n",
    "                 , TotJobsReported = pens['AvgJobsReported'] * pens['NLoans'] )\n",
    "L = tmp['TotLoanAmount'].sum() / TotNLoans\n",
    "# objective function coefficients\n",
    "oc = L / tmp['TotJobsReported']\n",
    "oc[oc.isna()] = 0\n",
    "oc[np.isinf(oc)] = 0\n",
    "# inequality constraint matrix and vector A @ x <= b\n",
    "Au = identity( Npairs, dtype='int8' ) \n",
    "bu = pens['NEstabs']\n",
    "# inequality constraint matrix\n",
    "Ae = np.ones([1,Npairs])"
   ]
  },
  {
   "cell_type": "code",
   "execution_count": null,
   "id": "professional-blocking",
   "metadata": {},
   "outputs": [
    {
     "name": "stderr",
     "output_type": "stream",
     "text": [
      "__main__:2: OptimizeWarning: Sparse constraint matrix detected; setting 'sparse':True.\n"
     ]
    }
   ],
   "source": [
    "# Solver\n",
    "res = linprog(oc, A_ub=Au, b_ub=bu, A_eq=Ae, b_eq=TotNLoans)"
   ]
  },
  {
   "cell_type": "code",
   "execution_count": null,
   "id": "crazy-monaco",
   "metadata": {},
   "outputs": [
    {
     "name": "stdout",
     "output_type": "stream",
     "text": [
      "Total loans from 1st round: 2242231\n",
      "Total loans from linprog: 2242230.999991421\n",
      "Total loans, rounded: 2242231.0\n"
     ]
    }
   ],
   "source": [
    "# check solution\n",
    "print('Total loans from 1st round:', TotNLoans )\n",
    "print('Total loans from linprog:', sum(res.x) )\n",
    "nloansim = res.x.round()\n",
    "print('Total loans, rounded:', sum(nloansim) )"
   ]
  },
  {
   "cell_type": "code",
   "execution_count": null,
   "id": "packed-witness",
   "metadata": {},
   "outputs": [
    {
     "data": {
      "text/html": [
       "<div>\n",
       "<style scoped>\n",
       "    .dataframe tbody tr th:only-of-type {\n",
       "        vertical-align: middle;\n",
       "    }\n",
       "\n",
       "    .dataframe tbody tr th {\n",
       "        vertical-align: top;\n",
       "    }\n",
       "\n",
       "    .dataframe thead th {\n",
       "        text-align: right;\n",
       "    }\n",
       "</style>\n",
       "<table border=\"1\" class=\"dataframe\">\n",
       "  <thead>\n",
       "    <tr style=\"text-align: right;\">\n",
       "      <th></th>\n",
       "      <th>NEstabs</th>\n",
       "      <th>NLoans</th>\n",
       "      <th>TotLoanAmount</th>\n",
       "      <th>TotJobsReported</th>\n",
       "      <th>AvgLoanAmount</th>\n",
       "      <th>penetration</th>\n",
       "      <th>LoanAmtperEmp</th>\n",
       "      <th>actual</th>\n",
       "    </tr>\n",
       "    <tr>\n",
       "      <th>NAICS2</th>\n",
       "      <th></th>\n",
       "      <th></th>\n",
       "      <th></th>\n",
       "      <th></th>\n",
       "      <th></th>\n",
       "      <th></th>\n",
       "      <th></th>\n",
       "      <th></th>\n",
       "    </tr>\n",
       "  </thead>\n",
       "  <tbody>\n",
       "    <tr>\n",
       "      <th>23</th>\n",
       "      <td>805837</td>\n",
       "      <td>218976.0</td>\n",
       "      <td>2.734114e+10</td>\n",
       "      <td>2.814214e+06</td>\n",
       "      <td>124859.074134</td>\n",
       "      <td>0.271737</td>\n",
       "      <td>9715.373263</td>\n",
       "      <td>0</td>\n",
       "    </tr>\n",
       "    <tr>\n",
       "      <th>44-45</th>\n",
       "      <td>1035624</td>\n",
       "      <td>261710.0</td>\n",
       "      <td>3.267687e+10</td>\n",
       "      <td>2.632892e+06</td>\n",
       "      <td>124859.074134</td>\n",
       "      <td>0.252708</td>\n",
       "      <td>12411.019253</td>\n",
       "      <td>0</td>\n",
       "    </tr>\n",
       "    <tr>\n",
       "      <th>54</th>\n",
       "      <td>1116275</td>\n",
       "      <td>522450.0</td>\n",
       "      <td>6.523262e+10</td>\n",
       "      <td>4.478779e+06</td>\n",
       "      <td>124859.074134</td>\n",
       "      <td>0.468030</td>\n",
       "      <td>14564.823242</td>\n",
       "      <td>0</td>\n",
       "    </tr>\n",
       "    <tr>\n",
       "      <th>62</th>\n",
       "      <td>1699461</td>\n",
       "      <td>905906.0</td>\n",
       "      <td>1.131106e+11</td>\n",
       "      <td>1.239077e+07</td>\n",
       "      <td>124859.074134</td>\n",
       "      <td>0.533055</td>\n",
       "      <td>9128.614402</td>\n",
       "      <td>0</td>\n",
       "    </tr>\n",
       "    <tr>\n",
       "      <th>71</th>\n",
       "      <td>152154</td>\n",
       "      <td>24219.0</td>\n",
       "      <td>3.023962e+09</td>\n",
       "      <td>1.916425e+05</td>\n",
       "      <td>124859.074134</td>\n",
       "      <td>0.159174</td>\n",
       "      <td>15779.183804</td>\n",
       "      <td>0</td>\n",
       "    </tr>\n",
       "    <tr>\n",
       "      <th>72</th>\n",
       "      <td>733341</td>\n",
       "      <td>308970.0</td>\n",
       "      <td>3.857771e+10</td>\n",
       "      <td>6.689386e+06</td>\n",
       "      <td>124859.074134</td>\n",
       "      <td>0.421318</td>\n",
       "      <td>5767.003248</td>\n",
       "      <td>0</td>\n",
       "    </tr>\n",
       "  </tbody>\n",
       "</table>\n",
       "</div>"
      ],
      "text/plain": [
       "        NEstabs    NLoans  TotLoanAmount  ...  penetration  LoanAmtperEmp  actual\n",
       "NAICS2                                    ...                                    \n",
       "23       805837  218976.0   2.734114e+10  ...     0.271737    9715.373263       0\n",
       "44-45   1035624  261710.0   3.267687e+10  ...     0.252708   12411.019253       0\n",
       "54      1116275  522450.0   6.523262e+10  ...     0.468030   14564.823242       0\n",
       "62      1699461  905906.0   1.131106e+11  ...     0.533055    9128.614402       0\n",
       "71       152154   24219.0   3.023962e+09  ...     0.159174   15779.183804       0\n",
       "72       733341  308970.0   3.857771e+10  ...     0.421318    5767.003248       0\n",
       "\n",
       "[6 rows x 8 columns]"
      ]
     },
     "execution_count": null,
     "metadata": {},
     "output_type": "execute_result"
    }
   ],
   "source": [
    "penssim = pens[['State','COUNTYfips','NAICS2','NEstabs','AvgJobsReported']\n",
    "              ].assign( NLoans = nloansim )\n",
    "msim = penssim.assign( TotLoanAmount = penssim['NLoans']*L, TotJobsReported = \n",
    "                      penssim['NLoans']*penssim['AvgJobsReported'] ).groupby('NAICS2').agg(\n",
    "                {'NEstabs':'sum','NLoans':'sum','TotLoanAmount':'sum','TotJobsReported':'sum'} )\n",
    "msim = msim.assign( AvgLoanAmount = msim['TotLoanAmount'] / msim['NLoans']\n",
    "                        , penetration = msim['NLoans'] / msim['NEstabs']\n",
    "                        , LoanAmtperEmp = msim['TotLoanAmount'] / msim['TotJobsReported']\n",
    "                        , actual = 0 )\n",
    "msim"
   ]
  },
  {
   "cell_type": "code",
   "execution_count": null,
   "id": "welcome-failing",
   "metadata": {},
   "outputs": [
    {
     "data": {
      "image/png": "[encoded data removed]",
      "text/plain": [
       "<Figure size 640x480 with 1 Axes>"
      ]
     },
     "metadata": {},
     "output_type": "display_data"
    },
    {
     "data": {
      "text/plain": [
       "<ggplot: (8788044053013)>"
      ]
     },
     "execution_count": null,
     "metadata": {},
     "output_type": "execute_result"
    }
   ],
   "source": [
    "# join current and simulated allocations\n",
    "comp = pd.concat([mbefore, msim]).reset_index()\n",
    "# Total amount per job of current and simulated allocations\n",
    "compsum = comp.groupby('actual').agg('sum')\n",
    "compsum = compsum.assign(AvgLoanAmount = compsum['TotLoanAmount'] / compsum['NLoans']\n",
    "                         , penetration = compsum['NLoans'] / compsum['NEstabs']\n",
    "                         , LoanAmtperEmp = compsum['TotLoanAmount'] / compsum['TotJobsReported'] \n",
    "                        ).reset_index()\n",
    "\n",
    "ggplot( compsum, aes(x='actual', y='LoanAmtperEmp')\n",
    "          ) + geom_bar(stat=\"identity\", position =\"identity\",alpha=0.5\n",
    "#          ) + scale_alpha_manual(values=[.1, .3]\n",
    "          ) + theme_bw(\n",
    "          ) + ylab('Average Loan Amount per Job Reported'\n",
    "          ) + ggtitle('Actual vs Simulated Allocation: max Loan Amount per Job'\n",
    "          ) #+ scale_y_continuous(labels=lambda l: [\"%d%%\" % (v * 100) for v in l]\n",
    "          #) + coord_flip()"
   ]
  },
  {
   "cell_type": "code",
   "execution_count": null,
   "id": "atomic-gravity",
   "metadata": {},
   "outputs": [
    {
     "name": "stderr",
     "output_type": "stream",
     "text": [
      "/Users/aligo/opt/anaconda3/lib/python3.7/site-packages/plotnine/utils.py:1246: FutureWarning: is_categorical is deprecated and will be removed in a future version.  Use is_categorical_dtype instead\n"
     ]
    },
    {
     "data": {
      "image/png": "[encoded data removed]",
      "text/plain": [
       "<Figure size 640x480 with 1 Axes>"
      ]
     },
     "metadata": {},
     "output_type": "display_data"
    },
    {
     "data": {
      "text/plain": [
       "<ggplot: (8788043614437)>"
      ]
     },
     "execution_count": null,
     "metadata": {},
     "output_type": "execute_result"
    }
   ],
   "source": [
    "# plot current and simulated allocations per NAICS\n",
    "ggplot( comp, aes(x='NAICS2', y='LoanAmtperEmp',fill='factor(actual)')\n",
    "          ) + geom_bar(stat=\"identity\", position =\"identity\",alpha=0.5\n",
    "#          ) + scale_alpha_manual(values=[.1, .3]\n",
    "          ) + theme_bw(\n",
    "          ) + xlab('2-digit NAICS code'\n",
    "          ) + ylab('Average Loan Amount per Job Reported'\n",
    "          ) + ggtitle('Actual vs Simulated Allocation: max Loan Amount per Job'\n",
    "          ) #+ scale_y_continuous(labels=lambda l: [\"%d%%\" % (v * 100) for v in l]\n",
    "          #) + coord_flip()\n"
   ]
  },
  {
   "cell_type": "code",
   "execution_count": null,
   "id": "isolated-turning",
   "metadata": {},
   "outputs": [],
   "source": [
    "tmp = pens['']\n",
    "# optmize allocation to maximize penetration\n",
    "#max Sum[all county-naics pairs](Nloansi / NEstabsi)\n",
    "#\ts.t. Sum[all county-naics pairs](Nloansi) = Ntotal\n",
    "#\t\tNloansi <= NEstabsi\n",
    "#\t\tNloansi >= 0\n",
    "\n",
    "# Constraints\n",
    "n = pens.shape[0] # number of decision variables: county-NAICS pairs\n",
    "NEstabsTot = pens['NEstabs'].sumn()\n",
    "# Sum[all county-naics pairs](Nloansi) = NEstabsTot\n",
    "A_eq = np.ones( (1,n) ) \n",
    "b_eq = [NEstabsTot]\n",
    "# Nloansi <= NEstabsi\n",
    "A_ub = np.identity( n )\n",
    "b_ub = pens['NEstabs'].to_numpy()\n",
    "\n",
    "# vector of coefficients of objective function: 1/NEstabsi\n",
    "c = 1 / b_ub\n",
    "c = ( 1 / pens['NEstabs'] ).array"
   ]
  }
 ],
 "metadata": {
  "kernelspec": {
   "display_name": "Python 3 (Spyder)",
   "language": "python3",
   "name": "python3"
  }
 },
 "nbformat": 4,
 "nbformat_minor": 5
}
