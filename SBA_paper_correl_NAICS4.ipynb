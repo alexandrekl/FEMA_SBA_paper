{
 "cells": [
  {
   "cell_type": "markdown",
   "id": "ca927430",
   "metadata": {},
   "source": [
    "SBA paper: exploration of correlations between loan amount, salary, geography, business size and type\n",
    "\n",
    "Initial definitions"
   ]
  },
  {
   "cell_type": "code",
   "execution_count": null,
   "id": "deeff3c4",
   "metadata": {},
   "outputs": [],
   "source": [
    "import glob\n",
    "import pandas as pd\n",
    "import zipfile\n",
    "from plotnine import *    # python lib to use ggplot\n",
    "import numpy as np\n",
    "# libs for regression\n",
    "import statsmodels.api as sm\n",
    "from patsy import dmatrices\n",
    "    \n",
    "naics = 'NAICS4'   # or 'NAICS2'\n",
    "lennaics = int(naics[-1])\n",
    "\n",
    "scope = 'US'  # 'NE' for New England or 'US'\n",
    "\n",
    "if scope == 'NE':\n",
    "    NEstates = ['CT','MA','ME','NH','RI','VT']\n",
    "    NEstfips = ['09','25','23','33','44','50']\n",
    "\n",
    "def OverrideNAICS2(df):\n",
    "    # adjusts 2-digit NAICS that are joint, e.g. NAICS 31-33 Manufacturing\n",
    "    df.loc[df['NAICS2'].eq('31'),'NAICS2'] = '31-33'\n",
    "    df.loc[df['NAICS2'].eq('33'),'NAICS2'] = '31-33'\n",
    "    df.loc[df['NAICS2'].eq('44'),'NAICS2'] = '44-45' # NAICS 44-45 Retail trade\n",
    "    df.loc[df['NAICS2'].eq('45'),'NAICS2'] = '44-45' # NAICS 44-45 Retail trade\n",
    "    df.loc[df['NAICS2'].eq('48'),'NAICS2'] = '48-49' # \tNAICS 48-49 Transportation and warehousing\n",
    "    df.loc[df['NAICS2'].eq('49'),'NAICS2'] = '48-49' # \tNAICS 48-49 Transportation and warehousing\n",
    "    return df"
   ]
  },
  {
   "cell_type": "markdown",
   "id": "5cab2f35",
   "metadata": {},
   "source": [
    "read PPP loan data"
   ]
  },
  {
   "cell_type": "code",
   "execution_count": null,
   "id": "54de1b60",
   "metadata": {},
   "outputs": [
    {
     "name": "stdout",
     "output_type": "stream",
     "text": [
      "/Users/aligo/Downloads/FEMA recovery data/PPP_loans_from_SBA/120120 Paycheck Protection Program Data/04 PPP sub 150k through 112420.csv\n",
      "/Users/aligo/Downloads/FEMA recovery data/PPP_loans_from_SBA/120120 Paycheck Protection Program Data/150k plus PPP through 112420.csv\n",
      "/Users/aligo/Downloads/FEMA recovery data/PPP_loans_from_SBA/120120 Paycheck Protection Program Data/01 PPP sub 150k through 112420.csv\n",
      "/Users/aligo/Downloads/FEMA recovery data/PPP_loans_from_SBA/120120 Paycheck Protection Program Data/02 PPP sub 150k through 112420.csv\n",
      "/Users/aligo/Downloads/FEMA recovery data/PPP_loans_from_SBA/120120 Paycheck Protection Program Data/03 PPP sub 150k through 112420.csv\n",
      "/Users/aligo/Downloads/FEMA recovery data/PPP_loans_from_SBA/120120 Paycheck Protection Program Data/05 PPP sub 150k through 112420.csv\n"
     ]
    }
   ],
   "source": [
    "fpath = '/Users/aligo/Downloads/FEMA recovery data/PPP_loans_from_SBA/120120 Paycheck Protection Program Data/'\n",
    "#fpath = '/Users/aligo/Downloads/FEMA recovery data/PPP_loans_from_SBA/03-03-21 Paycheck Protection Program Data/'\n",
    "\n",
    "csv_files = glob.glob(fpath + '*.csv')\n",
    "\n",
    "list_df = []\n",
    "for csv_file in csv_files:\n",
    "    print(csv_file)\n",
    "    df = pd.read_csv(csv_file, dtype={'Zip':'object', 'NAICSCode':'object'})\n",
    "    # do df manipulations\n",
    "    list_df.append(df)\n",
    "\n",
    "df = pd.concat(list_df)\n",
    "loans = df.assign( NAICS2 = df.NAICSCode.str.slice(start=0, stop=2)\n",
    "               , NAICS4 = df.NAICSCode.str.slice(start=0, stop=lennaics) )"
   ]
  },
  {
   "cell_type": "markdown",
   "id": "8f0552b0",
   "metadata": {},
   "source": [
    "Some filtering"
   ]
  },
  {
   "cell_type": "code",
   "execution_count": null,
   "id": "58bb0ce0",
   "metadata": {},
   "outputs": [
    {
     "name": "stdout",
     "output_type": "stream",
     "text": [
      "US PPP loans:5,156,850\n",
      "US Total PPP loan Amount: 522949800493.81824\n",
      "US PPP loans with valid NAICS: 0.9742206967431668\n",
      "US PPP loans with non-empty Zipcode: 1.0\n",
      "US PPP loans with non-empty BusinessType: 1.0\n",
      "US PPP loans with answered RaceEthnicity: 0.10391188419286967\n",
      "US PPP loans with answered Gender: 0.21402755558141112\n",
      "US PPP loans with answered Veteran: 0.14601180953489049\n",
      "US PPP loans with answered NonProfit: 0.035122797832009854\n"
     ]
    }
   ],
   "source": [
    "# First round of PPP only\n",
    "loans['DateApproved'] = pd.to_datetime( loans['DateApproved'] )\n",
    "loans = loans[loans['DateApproved'] < '2020-09-01']\n",
    "\n",
    "# should keep loan data for New England only?\n",
    "if scope == 'NE':\n",
    "    loans = loans[loans['State'].isin(NEstates)]\n",
    "\n",
    "# for compatibility with previous column names\n",
    "#loans = loans.rename(columns={'InitialApprovalAmount':'LoanAmount','BorrowerZip':'Zip'})\n",
    "\n",
    "# keep loan data for New England only\n",
    "nloans = loans.shape[0]\n",
    "totAmnt = loans['LoanAmount'].sum()\n",
    "print(scope, 'PPP loans:{0:,.0f}'.format(nloans) )\n",
    "print(scope, 'Total PPP loan Amount:', totAmnt)\n",
    "print(scope, 'PPP loans with valid NAICS:', loans[~loans.NAICSCode.isna()].shape[0] / nloans )\n",
    "print(scope, 'PPP loans with non-empty Zipcode:', loans[~loans.Zip.str.strip().eq('')].shape[0] / nloans )\n",
    "print(scope, 'PPP loans with non-empty BusinessType:', loans[~loans.BusinessType.str.strip().eq('')].shape[0] / nloans )\n",
    "print(scope, 'PPP loans with answered RaceEthnicity:', loans[~loans.RaceEthnicity.str.strip().eq('Unanswered')].shape[0] / nloans )\n",
    "#print(scope, 'PPP loans with answered Race:', loans[~loans.Race.str.strip().eq('Unanswered')].shape[0] / nloans )\n",
    "#print(scope, 'PPP loans with answered Ethnicity:', loans[~loans.Ethnicity.str.strip().eq('Unanswered')].shape[0] / nloans )\n",
    "print(scope, 'PPP loans with answered Gender:', loans[~loans.Gender.str.strip().eq('Unanswered')].shape[0] / nloans )\n",
    "print(scope, 'PPP loans with answered Veteran:', loans[~loans.Veteran.str.strip().eq('Unanswered')].shape[0] / nloans )\n",
    "print(scope, 'PPP loans with answered NonProfit:', loans[~loans.NonProfit.isna()].shape[0] / nloans )\n",
    "\n",
    "#loans.to_csv('/Users/aligo/Box/1 RisknDecScience/FEMA recovery/SBA paper/data/PPPloans' + scope + '.csv')\n",
    "#if scope == 'US':\n",
    "#    loans.sample(n=500000, random_state=1).to_csv(\n",
    "#    '/Users/aligo/Box/1 RisknDecScience/FEMA recovery/SBA paper/data/PPPloansSAMPLE_' + scope + '.csv')\n",
    "\n",
    "#tmp = loans['State'].unique()\n",
    "#tmp = np.sort(loans[~loans['State'].isna()]['State'].unique())\n",
    "#tmp = np.sort(loans[loans['LoanAmount'].le(150e3) & ~loans['State'].isna()]['State'].unique())\n",
    "#tmp = np.sort(loans[loans['LoanAmount'].gt(150e3) & ~loans['State'].isna()]['State'].unique())"
   ]
  },
  {
   "cell_type": "markdown",
   "id": "08c7e221",
   "metadata": {},
   "source": [
    "list and save Loans' business types"
   ]
  },
  {
   "cell_type": "markdown",
   "id": "4592c0b2",
   "metadata": {},
   "source": [
    "## Exclude loans to sole proprietors, contractors etc"
   ]
  },
  {
   "cell_type": "code",
   "execution_count": null,
   "id": "a75fd35e",
   "metadata": {},
   "outputs": [
    {
     "name": "stdout",
     "output_type": "stream",
     "text": [
      "4194074 loans in PPP dataset excluding ['Independent Contractors', 'Sole Proprietorship', 'Tenant in Common']\n"
     ]
    }
   ],
   "source": [
    "soleprop = ['Independent Contractors' #,'Self-Employed Individuals'\n",
    "            ,'Sole Proprietorship', 'Tenant in Common']\n",
    "loansCorp = loans[~loans.BusinessType.isin(soleprop)]\n",
    "print(loansCorp.shape[0], 'loans in PPP dataset excluding', soleprop)"
   ]
  },
  {
   "cell_type": "markdown",
   "id": "3cfd3a72",
   "metadata": {},
   "source": [
    "# Join County info into each loan "
   ]
  },
  {
   "cell_type": "code",
   "execution_count": null,
   "id": "4dfeddd1",
   "metadata": {},
   "outputs": [
    {
     "name": "stdout",
     "output_type": "stream",
     "text": [
      "unique cities in loan dataset: 44718\n",
      "Unique matches: 12108\n",
      "Unique non-matches: 32610\n",
      "loans in loan dataset: 4194074\n",
      "loans with matches: 2367284\n",
      "loans non-matches: 1826790\n",
      "zip-county pairs in US: 54193\n",
      "zip-county pairs in US, deduplicated: 39455\n",
      "loans in loan dataset: 4194074\n",
      "loans with matches: 4035596\n",
      "loans non-matches: 158478\n"
     ]
    }
   ],
   "source": [
    "loansc = loansCorp.reset_index().drop(columns='index')\n",
    "loansc['cityc'] = loansc['City'].str.upper()\n",
    "# clean 'city', 'town' etc from city name\n",
    "remove_words = ['TOWN', 'CITY', 'PLANTATION','CCD','TOWNSHIP','PRECINCT','BOROUGH','DISTRICT']\n",
    "patremove = r'\\b(?:{})\\b'.format('|'.join(remove_words))\n",
    "loansc['cityc'] = loansc['cityc'].str.replace(patremove, '',regex=True).str.strip()\n",
    "# remove whitespaces\n",
    "loansc['cityc'] = loansc['cityc'].str.replace(r'[^A-Z ]+','',regex=True).str.strip()\n",
    "\n",
    "loancities = loansc[['State','cityc']].drop_duplicates().reset_index().drop(\n",
    "                        columns='index').rename(columns={'State':'StateAbb'})\n",
    "tmp = loansc.rename(columns={'State':'StateAbb'}).set_index(['StateAbb','cityc'])\n",
    "tmp = tmp[~tmp.index.duplicated(keep='first')]\n",
    "loancities = loancities.set_index(['StateAbb','cityc']).join(tmp[['City','Address','Zip']])\n",
    "\n",
    "#'https://www2.census.gov/geo/docs/maps-data/data/comp/cousub_comparabilityxls.zip'\n",
    "fpath = '/Users/aligo/Downloads/FEMA recovery data/'\n",
    "zf = zipfile.ZipFile( fpath + 'cousub_comparabilityxls.zip') \n",
    "citycounty = pd.read_excel(zf.open('Cousub_comparability.xlsx'), engine='openpyxl'\n",
    "                           , dtype={'STATEFP10':'object','COUNTYFP10':'object'})\n",
    "citycounty = citycounty[#citycounty.STATEFP10.isin(NEstfips) &\n",
    "                ~citycounty['NAMELSAD10'].eq('County subdivisions not defined')]\n",
    "# state abbreviations\n",
    "stabbr = pd.read_csv(fpath + 'state_fips_names.csv', dtype='str')\n",
    "stabbr[' st'] = stabbr[' st'].str.strip()\n",
    "stabbr[' stusps'] = stabbr[' stusps'].str.strip()\n",
    "stabbr = stabbr.set_index(' st').rename(columns={' stusps':'StateAbb'})\n",
    "citycounty = citycounty.set_index('STATEFP10').join(stabbr).reset_index().rename(\n",
    "                                                columns={\"index\": \"STATEFP10\"} )\n",
    "\n",
    "citycounty['COUNTYName'] = citycounty['FULLNAMELSAD10'].str.extract('(, .*(?= County,))')\n",
    "citycounty['COUNTYName'] = citycounty['COUNTYName'].str[2:]\n",
    "\n",
    "# clean 'city', 'town' etc from city name\n",
    "citycounty['cityc'] = citycounty['NAMELSAD10'].str.upper().str.replace(\n",
    "                                        patremove, '',regex=True).str.strip()\n",
    "\n",
    "tmp = citycounty.set_index(['StateAbb','cityc'])\n",
    "tmp = tmp[~tmp.index.duplicated(keep='last')]\n",
    "loancities = loancities.join(tmp)[['City','STATEFP10','COUNTYFP10','NAMELSAD10'\n",
    "                                   ,'FULLNAMELSAD10','COUNTYName']].reset_index()\n",
    "print('unique cities in loan dataset: ' + str(loancities.shape[0]))\n",
    "print('Unique matches: ' + str(loancities['COUNTYName'].notna().sum()))\n",
    "print('Unique non-matches: ' + str(loancities['COUNTYName'].isna().sum()))\n",
    "loancities.to_excel('/Users/aligo/Downloads/tmp/ppp addresses.xlsx')\n",
    "\n",
    "loancities['COUNTYfips'] = loancities['STATEFP10'] + loancities['COUNTYFP10']\n",
    "tmp = loansc.rename(columns={'State':'StateAbb'}).set_index(['StateAbb','cityc'])\n",
    "tmp2 = loancities.set_index(['StateAbb','cityc'])[['COUNTYfips','COUNTYName']]\n",
    "loansc = tmp.join(tmp2)\n",
    "print('loans in loan dataset: ' + str(loansc.shape[0]))\n",
    "print('loans with matches: ' + str(loansc['COUNTYName'].notna().sum()))\n",
    "print('loans non-matches: ' + str(loansc['COUNTYName'].isna().sum()))\n",
    "\n",
    "# ZIPcode to County Code crosswalk from https://www.huduser.gov/portal/datasets/usps_crosswalk.html#data\n",
    "zipcounty = pd.read_excel('/Users/aligo/Downloads/FEMA recovery data/ZIP_COUNTY_092020.xlsx'\n",
    "                      , engine='openpyxl', usecols=['ZIP','COUNTY','TOT_RATIO']\n",
    "                , dtype={'ZIP':'object','COUNTY':'object','TOT_RATIO':'float64'})\n",
    "#zipcounty = zipcounty.reset_index()\n",
    "nzc = zipcounty.shape[0]\n",
    "print('zip-county pairs in US: ' + str(nzc))\n",
    "zipcounty['maxtot'] = zipcounty.groupby(['ZIP'])['TOT_RATIO'].transform(max)\n",
    "zipcounty = zipcounty[zipcounty['TOT_RATIO']==zipcounty['maxtot']].drop(\n",
    "                                                columns=['TOT_RATIO','maxtot'])\n",
    "zipcounty = zipcounty.drop_duplicates(subset='ZIP',keep='first')\n",
    "\n",
    "nz = zipcounty.shape[0]\n",
    "print('zip-county pairs in US, deduplicated: ' + str(zipcounty.shape[0]))\n",
    "\n",
    "# County code to county name crosswalk\n",
    "tmp = citycounty.assign( COUNTY = citycounty['STATEFP10'] + citycounty['COUNTYFP10'] )\n",
    "#countyfips = tmp[['COUNTY','StateAbb','COUNTYName']].drop_duplicates()\n",
    "countyfips = tmp[['COUNTY','StateAbb','COUNTYName']].drop_duplicates(subset='COUNTY'\n",
    "                                                                ,keep='first')\n",
    "countyfips.columns=['COUNTY','State','COUNTYName']\n",
    "\n",
    "zipcounty = zipcounty.set_index('COUNTY').join(\n",
    "                                countyfips.set_index('COUNTY')).reset_index()\n",
    "#zipcounty = zipcounty.drop(columns=['index'])\n",
    "zipcounty.columns=['COUNTYfips','Zip','State','COUNTYName']\n",
    "\n",
    "zipcounty = zipcounty[['Zip','State','COUNTYfips','COUNTYName']].set_index('Zip')\n",
    "\n",
    "tmp = loansc.reset_index()\n",
    "loans_y = tmp[tmp['COUNTYName'].notna()]  # already matched\n",
    "loans_n = tmp[tmp['COUNTYName'].isna()]  # not yet matched\n",
    "cols = loans_y.columns\n",
    "\n",
    "#loansc = loans.join(zipcounty['COUNTYfips']).reset_index() # loans with County fips and name\n",
    "tmp = loans_n.set_index('Zip').drop(columns=['COUNTYfips','COUNTYName'])\n",
    "m = tmp.join(zipcounty[['COUNTYfips','COUNTYName']]).reset_index()\n",
    "loansc = pd.concat([loans_y[cols], m[cols]])\n",
    "\n",
    "# tmp3 = zipcounty[['COUNTYfips','COUNTYName']].groupby('Zip').agg('count').sort_values(by='COUNTYfips', ascending=False, na_position='last')\n",
    "\n",
    "print('loans in loan dataset: ' + str(loansc.shape[0]))\n",
    "print('loans with matches: ' + str(loansc['COUNTYName'].notna().sum()))\n",
    "print('loans non-matches: ' + str(loansc['COUNTYName'].isna().sum()))\n",
    "\n",
    "# Exclude loans with unmatched county\n",
    "#loansc = loansc[loansc['COUNTYName'].notna()]   "
   ]
  },
  {
   "cell_type": "markdown",
   "id": "7538cdb0",
   "metadata": {},
   "source": [
    "#### adjusts 2-digit NAICS that are joint, e.g. NAICS 31-33 Manufacturing"
   ]
  },
  {
   "cell_type": "code",
   "execution_count": null,
   "id": "d4d0674e",
   "metadata": {},
   "outputs": [],
   "source": [
    "if (naics == 'NAICS2'):\n",
    "    loansc = OverrideNAICS2(loansc)\n",
    "\n",
    "# check\n",
    "#tmp = loansc[loansc['COUNTYfips'].eq('50017')    # orange county\n",
    "#             & loansc[naics].eq('311')]\n",
    "#tmp = loansc[loansc['StateAbb'].eq('VT')   \n",
    "#             & loansc['NAICS3'].eq('311')]\n",
    "#tmp['LoanAmount'].sum()"
   ]
  },
  {
   "cell_type": "markdown",
   "id": "77b53d3e",
   "metadata": {},
   "source": [
    "#### Number of loans per county and NAICS sector"
   ]
  },
  {
   "cell_type": "code",
   "execution_count": null,
   "id": "eb7150c5",
   "metadata": {},
   "outputs": [],
   "source": [
    "loansum = loansc.groupby(['COUNTYfips',naics]).agg({'Zip':'count'\n",
    "                                ,'LoanAmount':'sum', 'JobsReported':'sum'})\n",
    "loansum.columns=['NLoans','TotLoanAmount','TotJobsReported']"
   ]
  },
  {
   "cell_type": "markdown",
   "id": "5adcca77",
   "metadata": {},
   "source": [
    "# TOTAL NUMBER OF BUSINESSES FROM BLS\n",
    "## read total number of businesses from BLS"
   ]
  },
  {
   "cell_type": "code",
   "execution_count": null,
   "id": "31d6c090",
   "metadata": {},
   "outputs": [],
   "source": [
    "fpath = '/Users/aligo/Downloads/FEMA recovery data/'\n",
    "zf = zipfile.ZipFile( fpath + '2020_qtrly_singlefile.zip') \n",
    "qcew = pd.read_csv(zf.open('2020.q1-q2.singlefile.csv'), dtype={'area_fips':'object'})\n",
    "# filter\n",
    "idx = (qcew.own_code.eq(5) & qcew.qtr.eq(1)  # private, FIRST quarter only\n",
    "         & qcew['area_fips'].isin(countyfips['COUNTY'].tolist())\n",
    "         #& ~qcew['area_fips'].str[-3:].eq('000') # exclude US total and states totals\n",
    "         )\n",
    "if scope == 'NE':\n",
    "    idx = idx & qcew['area_fips'].str[:2].isin(NEstfips)\n",
    "    \n",
    "if (naics == 'NAICS2'):\n",
    "    idx = idx & ((qcew['industry_code'].str.len().eq(2)   # 2-digit NAICS\n",
    "            | qcew['industry_code'].str.match('\\d\\d-\\d\\d'))    # 2-digit NAICS that are joint, e.g. NAICS 31-33 Manufacturing\n",
    "          & ~qcew['industry_code'].eq('10') )      # exclude code = 10 that are \"ALL Naics\" totals\n",
    "else:\n",
    "    idx = idx & (qcew['industry_code'].str.len().eq(lennaics)   # N-digit NAICS\n",
    "          & ~qcew['industry_code'].str.startswith('10') )      # exclude code = 10 that are \"ALL Naics\" totals\n",
    "    \n",
    "cnt = qcew[idx]  \n",
    "cnt = cnt[['area_fips','industry_code','qtrly_estabs','total_qtrly_wages','avg_wkly_wage']]\n",
    "# Add state and county name\n",
    "cnt = cnt.set_index('area_fips').join(countyfips.set_index('COUNTY')).reset_index()\n",
    "# Join Total Num businesses + Num of loans\n",
    "cnt.columns = ['COUNTYfips',naics,'NEstabs','total_qtrly_wages','avg_wkly_wage','State','COUNTYName']\n",
    "cnt = cnt.set_index(['COUNTYfips',naics])"
   ]
  },
  {
   "cell_type": "markdown",
   "id": "730fc9b8",
   "metadata": {},
   "source": [
    "### Calculate loan penetration"
   ]
  },
  {
   "cell_type": "code",
   "execution_count": null,
   "id": "7f65d353",
   "metadata": {},
   "outputs": [
    {
     "name": "stderr",
     "output_type": "stream",
     "text": [
      "/Users/aligo/opt/anaconda3/lib/python3.7/site-packages/pandas/core/arraylike.py:358: RuntimeWarning: divide by zero encountered in log\n"
     ]
    }
   ],
   "source": [
    "tmp = loansum.reset_index().set_index(['COUNTYfips',naics])\n",
    "pen = cnt.join(loansum) #, rsuffix='loan')\n",
    "pen = pen.assign(TotQtrWagesperEstab = pen['total_qtrly_wages']/pen['NEstabs']\n",
    "                 , penetration = pen['NLoans']/pen['NEstabs']\n",
    "                 , AvgLoanAmount = pen['TotLoanAmount']/pen['NLoans']\n",
    "                 , AvgJobsReported = pen['TotJobsReported']/pen['NLoans']\n",
    "                 , LoanAmtperEmp = pen['TotLoanAmount']/pen['TotJobsReported'] )\n",
    "pen = pen.assign( logTotQtrWagesperEstab = np.log(pen['TotQtrWagesperEstab'])\n",
    "                , logAvgLoanAmount = np.log(pen['AvgLoanAmount']) )\n",
    "\n",
    "# Add NAICS descriptions\n",
    "# naics codes downloaded from https://data.bls.gov/cew/doc/titles/industry/industry_titles.csv\n",
    "fpath = '/Users/aligo/git-repos/FEMA/BLS_data/'\n",
    "dfnaics = pd.read_csv(fpath + 'industry_titles.csv')\n",
    "\n",
    "if (naics == 'NAICS2'):\n",
    "    idx = (dfnaics['industry_code'].str.len().eq(2)\n",
    "            | dfnaics['industry_code'].str.contains('^[0-9][0-9]-[0-9][0-9]'))\n",
    "else:\n",
    "    idx = dfnaics['industry_code'].str.len().eq(lennaics)\n",
    "dfnaics = dfnaics[idx]\n",
    "dfnaics['industry_title'] = dfnaics['industry_title'].str.replace('^NAICS \\d+ '\n",
    "                    ,'',regex=True).str.replace('^NAICS \\d\\d-\\d\\d ','',regex=True)\n",
    "dfnaics.columns = [naics,'NAICSdescr']\n",
    "pen = pen.reset_index().set_index(naics).join(dfnaics.set_index(naics)).reset_index()\n",
    "\n",
    "# For saving \n",
    "fpath = '/Users/aligo/Box/1 RisknDecScience/FEMA recovery/SBA paper/data/'\n",
    "idx = pen['NLoans'].isna()\n",
    "pen.loc[idx,'NLoans'] = 0\n",
    "pen.loc[idx,'penetration'] = 0\n",
    "pen = pen.replace([np.inf, -np.inf], np.nan)  # entries with loans but no establishments\n",
    "#pen[['State','COUNTYfips','COUNTYName','NAICS3','NAICSdescr'\n",
    "#     ,'NEstabs','NLoans','penetration']].to_csv(fpath + 'PPPpenetration.csv')"
   ]
  },
  {
   "cell_type": "markdown",
   "id": "ce4abc75",
   "metadata": {},
   "source": [
    "### add info for FEMA regions"
   ]
  },
  {
   "cell_type": "code",
   "execution_count": null,
   "id": "e43ab397",
   "metadata": {},
   "outputs": [],
   "source": [
    "regionconds = [pen['State'].isin(['CT','ME','MA','NH','RI','VT']) #Region  1\"\n",
    "             , pen['State'].isin(['NJ','NY','PR','VI']) #Region  2\" \n",
    "             , pen['State'].isin(['DE','MD','PA','VA','DC','WV']) #Region  3\" \n",
    "             , pen['State'].isin(['AL','FL','GA','KY','MS','NC','SC','TN']) #Region  4\" \n",
    "             , pen['State'].isin(['IL','IN','MI','MN','OH','WI']) #Region  5\" \n",
    "             , pen['State'].isin(['AR','LA','NM','OK','TX']) #Region 6 \n",
    "             , pen['State'].isin(['IA','KS','MO','NE']) #Region 7 \n",
    "             , pen['State'].isin(['CO','MT','ND','SD','UT','WY']) #Region 8\n",
    "             , pen['State'].isin(['AZ','CA','HI','NV','GU','AS','MP','MH','FM']) #Region 9\n",
    "             , pen['State'].isin(['AK','ID','OR','WA']) ] #Region 10\n",
    "regions = range( 1, 11 )\n",
    "pen['Region'] = np.select( regionconds, regions, default=0 )"
   ]
  },
  {
   "cell_type": "markdown",
   "id": "79f859c2",
   "metadata": {},
   "source": [
    "### State level Totals"
   ]
  },
  {
   "cell_type": "code",
   "execution_count": null,
   "id": "995a7261",
   "metadata": {},
   "outputs": [],
   "source": [
    "pen_st = pen.groupby(['Region','State',naics,'NAICSdescr']).agg({'NEstabs':'sum'\n",
    "                    ,'total_qtrly_wages':'sum','NLoans':'sum','TotLoanAmount':'sum'\n",
    "                    ,'TotJobsReported':'sum'})\n",
    "pen_st = pen_st.assign(TotQtrWagesperEstab = pen_st['total_qtrly_wages']/pen_st['NEstabs']\n",
    "                 , penetration = pen_st['NLoans']/pen_st['NEstabs']\n",
    "                 , AvgLoanAmount = pen_st['TotLoanAmount']/pen_st['NLoans']\n",
    "                 , AvgJobsReported = pen_st['TotJobsReported']/pen_st['NLoans']\n",
    "                 , LoanAmtperEmp = pen_st['TotLoanAmount']/pen_st['TotJobsReported'] )"
   ]
  },
  {
   "cell_type": "markdown",
   "id": "a69cb90e",
   "metadata": {},
   "source": [
    "### Breakdown of sector"
   ]
  },
  {
   "cell_type": "code",
   "execution_count": null,
   "id": "e89f12c1",
   "metadata": {},
   "outputs": [
    {
     "name": "stderr",
     "output_type": "stream",
     "text": [
      "/Users/aligo/opt/anaconda3/lib/python3.7/site-packages/plotnine/utils.py:1246: FutureWarning: is_categorical is deprecated and will be removed in a future version.  Use is_categorical_dtype instead\n"
     ]
    },
    {
     "data": {
      "image/png": "[encoded data removed]",
      "text/plain": [
       "<Figure size 640x480 with 1 Axes>"
      ]
     },
     "metadata": {},
     "output_type": "display_data"
    },
    {
     "data": {
      "text/plain": [
       "<ggplot: (8778905396237)>"
      ]
     },
     "execution_count": null,
     "metadata": {},
     "output_type": "execute_result"
    }
   ],
   "source": [
    "# '62')] # Health care and social assistance\n",
    "# 54 - Professional and technical services\n",
    "# 44-45 - Retail trade\n",
    "# 23 - Construction\n",
    "# 81 - Other services, except public administration\n",
    "# 72 - Accommodation and food services\n",
    "sect = ['72']\n",
    "# number of businesses\n",
    "dfq = pen_st.reset_index()\n",
    "dfq = dfq[dfq[naics].str.slice(start=0,stop=2).isin(sect)].groupby(['NAICSdescr']).agg({'NEstabs':'sum'})\n",
    "totestabs = dfq['NEstabs'].sum()\n",
    "dfq['PEstabs'] = dfq['NEstabs'] / totestabs\n",
    "\n",
    "# penetration'\n",
    "tmp = pen_st.reset_index()\n",
    "tmp = tmp[['NAICSdescr','penetration']].groupby('NAICSdescr').quantile([0.05,0.5,0.95]\n",
    "        ).reset_index().pivot_table(index='level_1',columns='NAICSdescr',values='penetration')\n",
    "tmp.index = tmp.index.map(str)\n",
    "tmp = tmp.transpose().reset_index()\n",
    "dfq = dfq.join( tmp.set_index('NAICSdescr') ).reset_index()\n",
    "dfq\n",
    "c = '#0072B2' # 'darkblue'\n",
    "(ggplot( dfq, aes(x='reorder(NAICSdescr,-PEstabs)') )\n",
    "    + geom_col( aes(y='PEstabs'), fill='lightgray', width = 1 )\n",
    "    + geom_point( aes(y='0.5'), shape='D', size=2.5, color=c, fill=c ) #, color=\"black\", position=position_dodge()\n",
    "    + geom_errorbar( aes(ymin='0.05', ymax='0.95'), width=.3, color=c ) #, position=position_dodge(.9)\\\n",
    "    + scale_y_continuous( limits=[0, 1], breaks=np.linspace(0,1,6) )\n",
    "    + ylab( 'PPP penetration (blue), group size (grey)' )\n",
    "    + xlab( 'NAICS industry group' )\n",
    "    + theme_bw()\n",
    "    + theme( axis_text_x = element_text(angle = 90, vjust = 1, hjust=0.5) )\n",
    ")"
   ]
  },
  {
   "cell_type": "markdown",
   "id": "0853f339",
   "metadata": {},
   "source": [
    "sect = '62'\n",
    "dfq = pen_st.reset_index()\n",
    "#dfq = dfq.assign( NAICS2 = dfq[naics].str.slice(start=0, stop=2) )\n",
    "dfq = dfq[dfq[naics].str.startswith(sect)].groupby(['NAICSdescr']).agg({'NEstabs':'sum'}).reset_index()\n",
    "totestabs = dfq['NEstabs'].sum()\n",
    "dfq['PEstabs'] = dfq['NEstabs'] / totestabs"
   ]
  },
  {
   "cell_type": "markdown",
   "id": "cc2eea4f",
   "metadata": {},
   "source": [
    "(ggplot(dfq, aes(x='reorder(NAICSdescr, PEstabs)', y='PEstabs'))\n",
    "     + geom_col( fill='#0072B2' )\n",
    "     + scale_y_continuous(labels=lambda l: [\"%d%%\" % (v * 100) for v in l])\n",
    "     + theme_bw()\n",
    "     + xlab( 'NAICS Industruy groups in sector ' + sect )\n",
    "     + ylab( 'Share of total number of establishments' )\n",
    "     + coord_flip()\n",
    "     + theme( panel_grid_major_y = element_blank() )\n",
    ")"
   ]
  },
  {
   "cell_type": "markdown",
   "id": "eeb5ad33",
   "metadata": {},
   "source": [
    "(ggplot(dfq, aes(x='NAICSdescr', y='0.5') )\n",
    "     + geom_col( fill='#0072B2' ) #, color=\"black\", position=position_dodge()\n",
    "     + geom_errorbar( aes(ymin='0.05', ymax='0.95'), width=.3 ) #, position=position_dodge(.9)\\\n",
    "     + scale_y_continuous(limits=[0, 1], breaks=np.linspace(0,1,6) )\n",
    "     + ylab( 'PPP penetration' )\n",
    "     + xlab( 'NAICS Industruy groups in sector ' + sect )\n",
    "     + coord_flip()\n",
    "     + theme_bw()\n",
    "     + theme( panel_grid_major_y = element_blank() )\n",
    ")"
   ]
  },
  {
   "cell_type": "markdown",
   "id": "b1502c5d",
   "metadata": {},
   "source": [
    "ggplot(dfq, aes(x='State', y='penetration', label='State')\n",
    "    ) + facet_wrap('~ NAICSdescr', ncol=1 \n",
    "    ) + geom_point( shape='o', size=0.1\n",
    "    ) + geom_text( size=8, nudge_y=-0.02 #adjust_text=adjust_text_dict\n",
    "    ) + scale_y_continuous(breaks=np.linspace(0,1,6)  #\n",
    "    ) + ylab( 'PPP penetration'\n",
    "    ) + theme_bw(\n",
    "    ) + theme( axis_ticks_major_x=element_blank(), axis_text_x=element_blank(), panel_grid_major_x = element_blank() )"
   ]
  },
  {
   "cell_type": "markdown",
   "id": "61ff5856",
   "metadata": {},
   "source": [
    "####  Summaries"
   ]
  },
  {
   "cell_type": "code",
   "execution_count": null,
   "id": "6129859f",
   "metadata": {},
   "outputs": [],
   "source": [
    "print(scope, 'Total Number of PPP loans:', loans.shape[0])\n",
    "print(scope, 'Total Number of PPP loans, excluding ' + ''.join(soleprop) \n",
    "                                                  + ': ' + str(loansc.shape[0]))\n",
    "print(scope, 'Previous Number excluding loans with missing info: ' \n",
    "                                                  + str(pen['NLoans'].sum()))\n",
    "print(scope, 'BLS Total Count of businesses: ' + str(pen['NEstabs'].sum()))\n",
    "print(scope, 'Total Number of County-NAICS pairs with existing businesses: ' \n",
    "                                                  + str(pen.shape[0]))\n",
    "print(scope, 'Previous Number with penetration > 1: ' + str(sum(pen['penetration'].gt(1))))\n",
    "print(scope, 'Previous Number with penetration = 0: ' + str(sum(pen['penetration'].eq(0))))"
   ]
  },
  {
   "cell_type": "markdown",
   "id": "f744fca4",
   "metadata": {},
   "source": [
    "### Correlation of LoanAmount with weekly wage"
   ]
  },
  {
   "cell_type": "markdown",
   "id": "aac4744c",
   "metadata": {},
   "source": [
    "#### Overall median loan and wage"
   ]
  },
  {
   "cell_type": "code",
   "execution_count": null,
   "id": "6d0d25ae",
   "metadata": {},
   "outputs": [],
   "source": [
    "print(scope, 'Average Total Quarterly Wages per Establishment: {0:,.0f}'.format(\n",
    "                                     pen['total_qtrly_wages'].sum() / pen['NEstabs'].sum() ))\n",
    "print(scope, 'Average Loan Amount: {0:,.0f}'.format( pen['TotLoanAmount'].sum() \n",
    "                                                         / pen['NLoans'].sum() ))\n",
    "print(scope, 'Median Total Quarterly Wages per Establishment: {0:,.0f}'.format( \n",
    "                                     pen['TotQtrWagesperEstab'].median() ))\n",
    "print(scope, 'Median Loan Amount: {0:,.0f}'.format( pen['AvgLoanAmount'].median() ))"
   ]
  },
  {
   "cell_type": "markdown",
   "id": "883de35e",
   "metadata": {},
   "source": [
    "#### distribution of total_qtrly_wages per NAICS"
   ]
  },
  {
   "cell_type": "code",
   "execution_count": null,
   "id": "8050f30e",
   "metadata": {},
   "outputs": [],
   "source": [
    "dfq = pen[[naics,'TotQtrWagesperEstab']].groupby(naics).quantile([0.5,0.75,0.95,0.99,0.999,1]\n",
    "        ).reset_index().pivot_table(index='level_1',columns=naics,values='TotQtrWagesperEstab')\n",
    "dfq.index = dfq.index.map(str)\n",
    "print('     Quantiles (Total Quarterly Wages per Establishment per county)')\n",
    "print('     ')\n",
    "with pd.option_context('display.max_rows', None, 'display.max_columns', None,'display.precision',0):  # more options can be specified also\n",
    "    print(dfq.transpose())"
   ]
  },
  {
   "cell_type": "markdown",
   "id": "5d8977b8",
   "metadata": {},
   "source": [
    "#### distribution of AvgLoanAmount per NAICS"
   ]
  },
  {
   "cell_type": "code",
   "execution_count": null,
   "id": "8f3201e7",
   "metadata": {},
   "outputs": [],
   "source": [
    "dfq = pen[[naics,'AvgLoanAmount']].groupby(naics).quantile([0.5,0.75,0.95,0.99,0.999,1]\n",
    "        ).reset_index().pivot_table(index='level_1',columns=naics,values='AvgLoanAmount')\n",
    "dfq.index = dfq.index.map(str)\n",
    "print('     Quantiles (Average Loan Amount per county)')\n",
    "print('     ')\n",
    "with pd.option_context('display.max_rows', None, 'display.max_columns', None,'display.precision',0):  # more options can be specified also\n",
    "    print(dfq.transpose())"
   ]
  },
  {
   "cell_type": "markdown",
   "id": "5696760c",
   "metadata": {},
   "source": [
    "#### Scatterplot of Loan Amount vs wage"
   ]
  },
  {
   "cell_type": "code",
   "execution_count": null,
   "id": "163b67c8",
   "metadata": {},
   "outputs": [],
   "source": [
    "ggplot(pen[pen['TotQtrWagesperEstab'] > 0], aes(x='logTotQtrWagesperEstab', y='logAvgLoanAmount')\n",
    "    ) + facet_wrap('~ Region', scales='free'  #, nrow=2 \n",
    "    ) + geom_point( size=0.1, alpha=0.1\n",
    "#    ) + coord_trans( x=\"log\", y=\"log\"\n",
    "    ) + xlab('Total Quarterly Wages per Establishment (log)'\n",
    "    ) + ylab('Average Loan Amount (log)')"
   ]
  },
  {
   "cell_type": "code",
   "execution_count": null,
   "id": "14156892",
   "metadata": {},
   "outputs": [],
   "source": [
    "tmp = pen[pen['Region'].ne(0) & pen['AvgLoanAmount'].gt(0) & pen['TotQtrWagesperEstab'].gt(0)\n",
    "           ][['logAvgLoanAmount','logTotQtrWagesperEstab','NAICS2','Region']]\n",
    "olsdf = pd.concat((tmp, \n",
    "             pd.get_dummies(tmp['NAICS2'], prefix='NAICS', drop_first=False),\n",
    "             pd.get_dummies(tmp['Region'], prefix='Region', drop_first=False)), axis=1)\n",
    "y = olsdf['logAvgLoanAmount']\n",
    "# X: remove dependent var, columns transformed to dummies, and columns to drop to avoid perfect collinearity\n",
    "X = olsdf.drop(columns=['logAvgLoanAmount','NAICS2','Region','NAICS_72','Region_1'])\n",
    "X = sm.add_constant(X)   # add column for intercept"
   ]
  },
  {
   "cell_type": "code",
   "execution_count": null,
   "id": "ba93679c",
   "metadata": {},
   "outputs": [],
   "source": [
    "mod = sm.OLS(y, X)    # Describe model\n",
    "res = mod.fit()       # Fit model\n",
    "print(res.summary())"
   ]
  },
  {
   "cell_type": "markdown",
   "id": "65879a35",
   "metadata": {},
   "source": [
    "from https://www.statsmodels.org/devel/gettingstarted.html: "
   ]
  },
  {
   "cell_type": "code",
   "execution_count": null,
   "id": "a9cd2012",
   "metadata": {},
   "outputs": [],
   "source": [
    "sm.stats.linear_rainbow(res)"
   ]
  },
  {
   "cell_type": "code",
   "execution_count": null,
   "id": "b4e45ff2",
   "metadata": {},
   "outputs": [],
   "source": [
    "sm.graphics.plot_partregress(endog='logAvgLoanAmount', exog_i='logTotQtrWagesperEstab'\n",
    "                             , exog_others=['NAICS2','Region'], data=olsdf, obs_labels=False)"
   ]
  },
  {
   "cell_type": "markdown",
   "id": "11c5d240",
   "metadata": {},
   "source": [
    "# SUPPLEMENTARY INFORMATION"
   ]
  },
  {
   "cell_type": "code",
   "execution_count": null,
   "id": "8b2483ab",
   "metadata": {},
   "outputs": [],
   "source": [
    "distribution of NLoans per NAICS"
   ]
  },
  {
   "cell_type": "code",
   "execution_count": null,
   "id": "53e97a28",
   "metadata": {},
   "outputs": [],
   "source": [
    "ggplot(loansum.reset_index(), aes(x=naics, y='NLoans')\n",
    "    ) + geom_boxplot(\n",
    "#    ) + scale_y_log10(labels=lambda l: [\"%d\" % v for v in l]\n",
    "    ) + coord_cartesian(ylim=[0, 100]\n",
    "    ) + theme(axis_text_x=element_text(rotation=90, hjust=0.5)\n",
    "    ) + ggtitle(scope + ' Number of loans per county' \n",
    "    ) + xlab('Industry (2-digit NAICS code)'\n",
    "    ) + ylab('Number of Loans')"
   ]
  },
  {
   "cell_type": "code",
   "execution_count": null,
   "id": "76e3ba1e",
   "metadata": {},
   "outputs": [],
   "source": [
    "dfq = loansum['NLoans'].reset_index().groupby(naics).quantile([0.5,0.75,0.95,0.99,0.999,1]\n",
    "        ).reset_index().pivot_table(index='level_1',columns=naics,values='NLoans')\n",
    "dfq.index = dfq.index.map(str)\n",
    "print('            Quantiles (Number of Loans per state)')\n",
    "with pd.option_context('display.max_rows', None, 'display.max_columns', None,'display.precision',0):  # more options can be specified also\n",
    "    print(dfq.transpose())"
   ]
  },
  {
   "cell_type": "markdown",
   "id": "82574479",
   "metadata": {},
   "source": [
    "##### distribution of avg_wkly_wage per NAICS"
   ]
  },
  {
   "cell_type": "code",
   "execution_count": null,
   "id": "84e8a869",
   "metadata": {},
   "outputs": [],
   "source": [
    "ggplot(pen, aes(x=naics, y='avg_wkly_wage')\n",
    "    ) + geom_boxplot(\n",
    "    ) + coord_cartesian(ylim=[0, 2000]\n",
    "    ) + theme(axis_text_x=element_text(rotation=90, hjust=0.5)\n",
    "    ) + ggtitle('Average Weekly Wage per county'\n",
    "    ) + xlab('Industry (2-digit NAICS code)'\n",
    "    ) + ylab('Average Weekly Wage')"
   ]
  },
  {
   "cell_type": "markdown",
   "id": "009f9a6d",
   "metadata": {},
   "source": [
    "#### Scatterplot of Loan Amount vs wage"
   ]
  },
  {
   "cell_type": "code",
   "execution_count": null,
   "id": "d24ba0fd",
   "metadata": {},
   "outputs": [],
   "source": [
    "ggplot(pen[pen['avg_wkly_wage'] > 0], aes(x='avg_wkly_wage', y='AvgLoanAmount')\n",
    "      ) + facet_wrap('~ NAICS2', scales='free'  #, nrow=2 \n",
    "    ) + geom_point( size=0.1, alpha=0.1\n",
    "    ) + coord_trans( x=\"log2\", y=\"log2\"\n",
    "    ) + xlab('Average Weekly Wage'\n",
    "    ) + ylab('Average Loan Amount')"
   ]
  },
  {
   "cell_type": "markdown",
   "id": "61cb74ef",
   "metadata": {},
   "source": [
    "##### distribution of NEstabs per NAICS"
   ]
  },
  {
   "cell_type": "code",
   "execution_count": null,
   "id": "e39c7934",
   "metadata": {},
   "outputs": [],
   "source": [
    "ggplot(pen, aes(x=naics, y='NEstabs')\n",
    "    ) + geom_boxplot(\n",
    "    ) + coord_cartesian(ylim=[0, 1200]\n",
    "    ) + theme(axis_text_x=element_text(rotation=90, hjust=0.5)\n",
    "    ) + ggtitle('Number of businesses per county'\n",
    "    ) + xlab('Industry (2-digit NAICS code)'\n",
    "    ) + ylab('Number of Businesses')"
   ]
  },
  {
   "cell_type": "code",
   "execution_count": null,
   "id": "a2bbc0ff",
   "metadata": {},
   "outputs": [],
   "source": [
    "dfq = pen[[naics,'NEstabs']].groupby(naics).quantile([0.5,0.75,0.95,0.99,0.999,1]\n",
    "        ).reset_index().pivot_table(index='level_1',columns=naics,values='NEstabs')\n",
    "dfq.index = dfq.index.map(str)\n",
    "print('     Quantiles (Number of businesses per county)')\n",
    "print('     ')\n",
    "with pd.option_context('display.max_rows', None, 'display.max_columns', None,'display.precision',0):  # more options can be specified also\n",
    "    print(dfq.transpose())"
   ]
  },
  {
   "cell_type": "markdown",
   "id": "fffca6df",
   "metadata": {},
   "source": [
    "#### distribution of penetration per NAICS"
   ]
  },
  {
   "cell_type": "code",
   "execution_count": null,
   "id": "3fc266eb",
   "metadata": {},
   "outputs": [],
   "source": [
    "ggplot(pen, aes(x=naics, y='penetration')\n",
    "    ) + geom_boxplot(\n",
    "    ) + coord_cartesian(ylim=[0, 1.5]\n",
    "    ) + theme(axis_text_x=element_text(rotation=90, hjust=0.5)\n",
    "    ) + ggtitle(scope + ' Penetration per county'\n",
    "    ) + xlab('Industry (2-digit NAICS code)'\n",
    "    ) + ylab('Penetration (Num loans/Num BLS businesses)')"
   ]
  },
  {
   "cell_type": "code",
   "execution_count": null,
   "id": "ef1032c4",
   "metadata": {},
   "outputs": [],
   "source": [
    "dfq = pen[[naics,'penetration']].groupby(naics).quantile([0.5,0.75,0.95,0.99,0.999,1]\n",
    "        ).reset_index().pivot_table(index='level_1',columns=naics,values='penetration')\n",
    "dfq.index = dfq.index.map(str)\n",
    "print('           Quantiles (Penetration per county)')\n",
    "with pd.option_context('display.max_rows', None, 'display.max_columns', None,'display.precision',2):  # more options can be specified also\n",
    "    print(dfq.transpose())"
   ]
  },
  {
   "cell_type": "markdown",
   "id": "e50da988",
   "metadata": {},
   "source": [
    "#### LoanAmount per business per NAICS"
   ]
  },
  {
   "cell_type": "code",
   "execution_count": null,
   "id": "a961f945",
   "metadata": {},
   "outputs": [],
   "source": [
    "ggplot(pen, aes(x=naics, y='AvgLoanAmount')\n",
    "    ) + geom_boxplot(\n",
    "    ) + coord_cartesian(ylim=[0, 3e5]\n",
    "    ) + theme(axis_text_x=element_text(rotation=90, hjust=0.5)\n",
    "    ) + ggtitle(scope + ' Average Loan Amount per county'\n",
    "    ) + xlab('Industry (2-digit NAICS code)'\n",
    "    ) + ylab('Average Loan Amount of loan'\n",
    "    ) + scale_y_continuous(labels=lambda l: [f\"{v:,.0f}\" for v in l])"
   ]
  },
  {
   "cell_type": "code",
   "execution_count": null,
   "id": "20dc0d4a",
   "metadata": {},
   "outputs": [],
   "source": [
    "dfq = pen[[naics,'AvgLoanAmount']].groupby(naics).quantile([0.5,0.75,0.95,0.99,0.999,1]\n",
    "        ).reset_index().pivot_table(index='level_1',columns=naics,values='AvgLoanAmount')\n",
    "dfq.index = dfq.index.map(str)\n",
    "print('           Quantiles (Average Loan Amount per county)')\n",
    "with pd.option_context('display.max_rows', None, 'display.max_columns', None,'display.precision',2):  # more options can be specified also\n",
    "    print(dfq.transpose())"
   ]
  },
  {
   "cell_type": "markdown",
   "id": "b3820546",
   "metadata": {},
   "source": [
    "#### LoanAmount per Job per NAICS"
   ]
  },
  {
   "cell_type": "code",
   "execution_count": null,
   "id": "44edaa60",
   "metadata": {},
   "outputs": [],
   "source": [
    "ggplot(pen, aes(x=naics, y='LoanAmtperEmp')\n",
    "    ) + geom_boxplot(\n",
    "    ) + coord_cartesian(ylim=[0, 2e4]\n",
    "    ) + theme(axis_text_x=element_text(rotation=90, hjust=0.5)\n",
    "    ) + ggtitle(scope + ' Loan Amount per job per county'\n",
    "    ) + xlab('Industry (2-digit NAICS code)'\n",
    "    ) + ylab('Loan Amount per job'\n",
    "    ) + scale_y_continuous(labels=lambda l: [f\"{v:,.0f}\" for v in l])"
   ]
  },
  {
   "cell_type": "code",
   "execution_count": null,
   "id": "ed98c180",
   "metadata": {},
   "outputs": [],
   "source": [
    "dfq = pen[[naics,'LoanAmtperEmp']].groupby(naics).quantile([0.5,0.75,0.95,0.99,0.999,1]\n",
    "        ).reset_index().pivot_table(index='level_1',columns=naics,values='LoanAmtperEmp')\n",
    "dfq.index = dfq.index.map(str)\n",
    "print('           Quantiles (Loan Amount per job per county)')\n",
    "with pd.option_context('display.max_rows', None, 'display.max_columns', None,'display.precision',2):  # more options can be specified also\n",
    "    print(dfq.transpose())"
   ]
  },
  {
   "cell_type": "markdown",
   "id": "e471b44d",
   "metadata": {},
   "source": [
    "#### total per NAICS"
   ]
  },
  {
   "cell_type": "code",
   "execution_count": null,
   "id": "3f6cca84",
   "metadata": {},
   "outputs": [],
   "source": [
    "dfp = pen.groupby([naics,'NAICSdescr']).agg('sum').reset_index()\n",
    "dfp['penetration'] = dfp['NLoans'] / dfp['NEstabs']\n",
    "\n",
    "ggplot(dfp, aes(x='reorder(NAICSdescr,penetration)', y='penetration')\n",
    "          ) + geom_bar(stat=\"identity\"\n",
    "          ) + xlab('NAICS 2 Digit Sector'\n",
    "          ) + ylab('PPP Loan Penetration'\n",
    "          ) + ggtitle('New England PPP Penetrations per NAICS Sector'\n",
    "#          ) + scale_y_continuous(trans = 'log2'\n",
    "          ) + coord_flip()"
   ]
  },
  {
   "cell_type": "code",
   "execution_count": null,
   "id": "7e46992b",
   "metadata": {},
   "outputs": [],
   "source": [
    "ggplot(dfp[dfp['penetration'].gt(1)], aes(x='reorder(NAICSdescr,penetration)', y='penetration')\n",
    "          ) + geom_bar(stat=\"identity\"\n",
    "          ) + xlab(naics + ' Sector'\n",
    "          ) + ylab('PPP Loan Penetration'\n",
    "          ) + ggtitle('New England PPP Penetrations > 1 per NAICS Sector'\n",
    "#          ) + scale_y_continuous(trans = 'log2'\n",
    "          ) + coord_flip()"
   ]
  },
  {
   "cell_type": "markdown",
   "id": "8010e398",
   "metadata": {},
   "source": [
    "#### Histogram of County-NAICS penetrations"
   ]
  },
  {
   "cell_type": "code",
   "execution_count": null,
   "id": "253ca9a7",
   "metadata": {},
   "outputs": [],
   "source": [
    "ggplot(pen[pen.penetration.le(1)], aes(x='penetration')\n",
    "       ) + geom_histogram(binwidth=.05\n",
    "       ) + xlab('PPP Loan Penetration'\n",
    "       ) + ylab('Number of Counties-Sectors'\n",
    "       ) + ggtitle('Distribution of PPP Penetration <= 1 in New England')"
   ]
  },
  {
   "cell_type": "markdown",
   "id": "cd5ce69c",
   "metadata": {},
   "source": [
    "#### outlier penetrations"
   ]
  },
  {
   "cell_type": "code",
   "execution_count": null,
   "id": "16694758",
   "metadata": {},
   "outputs": [],
   "source": [
    "ggplot(pen, aes(x='State', y='penetration')\n",
    "       ) + geom_boxplot(\n",
    "       ) + xlab('State'\n",
    "       ) + ylab('Penetration'\n",
    "       ) + ggtitle('Outliers of PPP Penetration in New England')\n",
    "\n",
    "#with pd.ExcelWriter(fpath + 'PPP.xlsx') as writer:\n",
    "#    dfsum[['State','City','Zip','NAICS3','NAICSdescr','TotalAmount','NumLoans'\n",
    "#           ,'JobsReported']].to_excel(writer, sheet_name='PPP', index=False)"
   ]
  },
  {
   "cell_type": "markdown",
   "id": "156cbd3c",
   "metadata": {},
   "source": [
    "#### Save for SBA paper"
   ]
  },
  {
   "cell_type": "code",
   "execution_count": null,
   "id": "e8f949bc",
   "metadata": {},
   "outputs": [],
   "source": [
    "with pd.ExcelWriter(fpath + 'SBApaperPPPpenetBLS_County_' + naics + scope + '.xlsx') as writer:\n",
    "    pen[['State','COUNTYfips','COUNTYName',naics,'NAICSdescr','NEstabs','total_qtrly_wages','avg_wkly_wage','NLoans'\n",
    "              ,'penetration','AvgLoanAmount','AvgJobsReported','LoanAmtperEmp']\n",
    "                            ].to_excel(writer, sheet_name='PPP', index=False)\n",
    "\n",
    "# debug\n",
    "with pd.ExcelWriter('/Users/aligo/Downloads/tmp/ppp_loans_bls_counts.xlsx') as writer:\n",
    "#    loansc.reset_index().to_excel(writer, sheet_name='loans')\n",
    "    cnt.reset_index().to_excel(writer, sheet_name='bls')"
   ]
  },
  {
   "cell_type": "code",
   "execution_count": null,
   "id": "f6ac9f76",
   "metadata": {},
   "outputs": [],
   "source": []
  }
 ],
 "metadata": {
  "kernelspec": {
   "display_name": "Python 3 (Spyder)",
   "language": "python3",
   "name": "python3"
  }
 },
 "nbformat": 4,
 "nbformat_minor": 5
}
